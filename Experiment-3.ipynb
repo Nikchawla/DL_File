{
 "cells": [
  {
   "cell_type": "markdown",
   "metadata": {
    "colab_type": "text",
    "id": "M27qF7CTrBqc"
   },
   "source": [
    "# PROBLEM STATEMENT"
   ]
  },
  {
   "cell_type": "markdown",
   "metadata": {
    "colab_type": "text",
    "id": "iCj2rwwHBB1I"
   },
   "source": [
    "\n",
    "- In this project, we will build a simple machine learning model to convert from celsius to fahrenheit. \n",
    "- The equation is as follows: **T(°F) = T(°C) × 9/5 + 32**\n",
    "- For Example, let's convert 0°C celsius temperature to Fahrenheit:  **(0°C × 9/5) + 32 = 32°F**\n"
   ]
  },
  {
   "cell_type": "markdown",
   "metadata": {
    "colab_type": "text",
    "id": "Z2ZMlH-gtOxf"
   },
   "source": [
    "\n",
    "<table>\n",
    "  <tr><td>\n",
    "    <img src=\"https://upload.wikimedia.org/wikipedia/commons/7/70/Thermometer_CF.svg\"\n",
    "         alt=\"Fashion MNIST sprite\"  width=\"600\">\n",
    "  </td></tr>\n",
    "  <tr><td align=\"center\">\n",
    "    <b>Figure 1. Convert Celsius to Fahrenheit [Image Source: https://commons.wikimedia.org/wiki/File:Thermometer_CF.svg]\n",
    "  </td></tr>\n",
    "</table>\n"
   ]
  },
  {
   "cell_type": "markdown",
   "metadata": {
    "colab_type": "text",
    "id": "zKmFmyaGunc7"
   },
   "source": [
    "# STEP #0: IMPORT LIBRARIES"
   ]
  },
  {
   "cell_type": "code",
   "execution_count": 1,
   "metadata": {
    "colab": {
     "base_uri": "https://localhost:8080/",
     "height": 72
    },
    "colab_type": "code",
    "id": "S0Cx3743urFY",
    "outputId": "e29762e6-1ed9-4337-a860-8149ef05da94"
   },
   "outputs": [],
   "source": [
    "import tensorflow as tf\n",
    "import pandas as pd\n",
    "import numpy as np\n",
    "import seaborn as sns\n",
    "import matplotlib.pyplot as plt"
   ]
  },
  {
   "cell_type": "markdown",
   "metadata": {
    "colab_type": "text",
    "id": "uAE6Icc0uylP"
   },
   "source": [
    "# STEP #1: IMPORT DATASETS"
   ]
  },
  {
   "cell_type": "code",
   "execution_count": 3,
   "metadata": {
    "colab": {},
    "colab_type": "code",
    "id": "tjIiJdM4u1IE"
   },
   "outputs": [],
   "source": [
    "# You have to include the full link to the csv file containing your dataset\n",
    "Temperature_df = pd.read_csv('02_Celsius to Fahrenheit.csv')\n",
    "Temperature_df.reset_index(drop=True, inplace=True)"
   ]
  },
  {
   "cell_type": "code",
   "execution_count": 4,
   "metadata": {
    "colab": {
     "base_uri": "https://localhost:8080/",
     "height": 990
    },
    "colab_type": "code",
    "id": "q4_wPDKCu5Uc",
    "outputId": "816e552d-7cb5-4ca8-a6da-a940274d14f8"
   },
   "outputs": [
    {
     "data": {
      "text/html": [
       "<div>\n",
       "<style scoped>\n",
       "    .dataframe tbody tr th:only-of-type {\n",
       "        vertical-align: middle;\n",
       "    }\n",
       "\n",
       "    .dataframe tbody tr th {\n",
       "        vertical-align: top;\n",
       "    }\n",
       "\n",
       "    .dataframe thead th {\n",
       "        text-align: right;\n",
       "    }\n",
       "</style>\n",
       "<table border=\"1\" class=\"dataframe\">\n",
       "  <thead>\n",
       "    <tr style=\"text-align: right;\">\n",
       "      <th></th>\n",
       "      <th>Celsius</th>\n",
       "      <th>Fahrenheit</th>\n",
       "    </tr>\n",
       "  </thead>\n",
       "  <tbody>\n",
       "    <tr>\n",
       "      <th>0</th>\n",
       "      <td>-50</td>\n",
       "      <td>-58.0</td>\n",
       "    </tr>\n",
       "    <tr>\n",
       "      <th>1</th>\n",
       "      <td>-40</td>\n",
       "      <td>-40.0</td>\n",
       "    </tr>\n",
       "    <tr>\n",
       "      <th>2</th>\n",
       "      <td>-30</td>\n",
       "      <td>-22.0</td>\n",
       "    </tr>\n",
       "    <tr>\n",
       "      <th>3</th>\n",
       "      <td>-20</td>\n",
       "      <td>-4.0</td>\n",
       "    </tr>\n",
       "    <tr>\n",
       "      <th>4</th>\n",
       "      <td>-10</td>\n",
       "      <td>14.0</td>\n",
       "    </tr>\n",
       "    <tr>\n",
       "      <th>5</th>\n",
       "      <td>-9</td>\n",
       "      <td>15.8</td>\n",
       "    </tr>\n",
       "    <tr>\n",
       "      <th>6</th>\n",
       "      <td>-8</td>\n",
       "      <td>17.6</td>\n",
       "    </tr>\n",
       "    <tr>\n",
       "      <th>7</th>\n",
       "      <td>-7</td>\n",
       "      <td>19.4</td>\n",
       "    </tr>\n",
       "    <tr>\n",
       "      <th>8</th>\n",
       "      <td>-6</td>\n",
       "      <td>21.2</td>\n",
       "    </tr>\n",
       "    <tr>\n",
       "      <th>9</th>\n",
       "      <td>-5</td>\n",
       "      <td>23.0</td>\n",
       "    </tr>\n",
       "    <tr>\n",
       "      <th>10</th>\n",
       "      <td>-4</td>\n",
       "      <td>24.8</td>\n",
       "    </tr>\n",
       "    <tr>\n",
       "      <th>11</th>\n",
       "      <td>-3</td>\n",
       "      <td>26.6</td>\n",
       "    </tr>\n",
       "    <tr>\n",
       "      <th>12</th>\n",
       "      <td>-2</td>\n",
       "      <td>28.4</td>\n",
       "    </tr>\n",
       "    <tr>\n",
       "      <th>13</th>\n",
       "      <td>-1</td>\n",
       "      <td>30.2</td>\n",
       "    </tr>\n",
       "    <tr>\n",
       "      <th>14</th>\n",
       "      <td>0</td>\n",
       "      <td>32.0</td>\n",
       "    </tr>\n",
       "    <tr>\n",
       "      <th>15</th>\n",
       "      <td>1</td>\n",
       "      <td>33.8</td>\n",
       "    </tr>\n",
       "    <tr>\n",
       "      <th>16</th>\n",
       "      <td>2</td>\n",
       "      <td>35.6</td>\n",
       "    </tr>\n",
       "    <tr>\n",
       "      <th>17</th>\n",
       "      <td>3</td>\n",
       "      <td>37.4</td>\n",
       "    </tr>\n",
       "    <tr>\n",
       "      <th>18</th>\n",
       "      <td>4</td>\n",
       "      <td>39.2</td>\n",
       "    </tr>\n",
       "    <tr>\n",
       "      <th>19</th>\n",
       "      <td>5</td>\n",
       "      <td>41.0</td>\n",
       "    </tr>\n",
       "    <tr>\n",
       "      <th>20</th>\n",
       "      <td>6</td>\n",
       "      <td>42.8</td>\n",
       "    </tr>\n",
       "    <tr>\n",
       "      <th>21</th>\n",
       "      <td>7</td>\n",
       "      <td>44.6</td>\n",
       "    </tr>\n",
       "    <tr>\n",
       "      <th>22</th>\n",
       "      <td>8</td>\n",
       "      <td>46.4</td>\n",
       "    </tr>\n",
       "    <tr>\n",
       "      <th>23</th>\n",
       "      <td>9</td>\n",
       "      <td>48.2</td>\n",
       "    </tr>\n",
       "    <tr>\n",
       "      <th>24</th>\n",
       "      <td>10</td>\n",
       "      <td>50.0</td>\n",
       "    </tr>\n",
       "    <tr>\n",
       "      <th>25</th>\n",
       "      <td>20</td>\n",
       "      <td>68.0</td>\n",
       "    </tr>\n",
       "    <tr>\n",
       "      <th>26</th>\n",
       "      <td>30</td>\n",
       "      <td>86.0</td>\n",
       "    </tr>\n",
       "    <tr>\n",
       "      <th>27</th>\n",
       "      <td>40</td>\n",
       "      <td>104.0</td>\n",
       "    </tr>\n",
       "    <tr>\n",
       "      <th>28</th>\n",
       "      <td>50</td>\n",
       "      <td>122.0</td>\n",
       "    </tr>\n",
       "    <tr>\n",
       "      <th>29</th>\n",
       "      <td>60</td>\n",
       "      <td>140.0</td>\n",
       "    </tr>\n",
       "  </tbody>\n",
       "</table>\n",
       "</div>"
      ],
      "text/plain": [
       "    Celsius  Fahrenheit\n",
       "0       -50       -58.0\n",
       "1       -40       -40.0\n",
       "2       -30       -22.0\n",
       "3       -20        -4.0\n",
       "4       -10        14.0\n",
       "5        -9        15.8\n",
       "6        -8        17.6\n",
       "7        -7        19.4\n",
       "8        -6        21.2\n",
       "9        -5        23.0\n",
       "10       -4        24.8\n",
       "11       -3        26.6\n",
       "12       -2        28.4\n",
       "13       -1        30.2\n",
       "14        0        32.0\n",
       "15        1        33.8\n",
       "16        2        35.6\n",
       "17        3        37.4\n",
       "18        4        39.2\n",
       "19        5        41.0\n",
       "20        6        42.8\n",
       "21        7        44.6\n",
       "22        8        46.4\n",
       "23        9        48.2\n",
       "24       10        50.0\n",
       "25       20        68.0\n",
       "26       30        86.0\n",
       "27       40       104.0\n",
       "28       50       122.0\n",
       "29       60       140.0"
      ]
     },
     "execution_count": 4,
     "metadata": {},
     "output_type": "execute_result"
    }
   ],
   "source": [
    "Temperature_df"
   ]
  },
  {
   "cell_type": "code",
   "execution_count": 5,
   "metadata": {
    "colab": {
     "base_uri": "https://localhost:8080/",
     "height": 206
    },
    "colab_type": "code",
    "id": "E7puy9-xxS4A",
    "outputId": "0bc41bba-4258-441e-aeb0-4b2ea364e2af"
   },
   "outputs": [
    {
     "data": {
      "text/html": [
       "<div>\n",
       "<style scoped>\n",
       "    .dataframe tbody tr th:only-of-type {\n",
       "        vertical-align: middle;\n",
       "    }\n",
       "\n",
       "    .dataframe tbody tr th {\n",
       "        vertical-align: top;\n",
       "    }\n",
       "\n",
       "    .dataframe thead th {\n",
       "        text-align: right;\n",
       "    }\n",
       "</style>\n",
       "<table border=\"1\" class=\"dataframe\">\n",
       "  <thead>\n",
       "    <tr style=\"text-align: right;\">\n",
       "      <th></th>\n",
       "      <th>Celsius</th>\n",
       "      <th>Fahrenheit</th>\n",
       "    </tr>\n",
       "  </thead>\n",
       "  <tbody>\n",
       "    <tr>\n",
       "      <th>0</th>\n",
       "      <td>-50</td>\n",
       "      <td>-58.0</td>\n",
       "    </tr>\n",
       "    <tr>\n",
       "      <th>1</th>\n",
       "      <td>-40</td>\n",
       "      <td>-40.0</td>\n",
       "    </tr>\n",
       "    <tr>\n",
       "      <th>2</th>\n",
       "      <td>-30</td>\n",
       "      <td>-22.0</td>\n",
       "    </tr>\n",
       "    <tr>\n",
       "      <th>3</th>\n",
       "      <td>-20</td>\n",
       "      <td>-4.0</td>\n",
       "    </tr>\n",
       "    <tr>\n",
       "      <th>4</th>\n",
       "      <td>-10</td>\n",
       "      <td>14.0</td>\n",
       "    </tr>\n",
       "  </tbody>\n",
       "</table>\n",
       "</div>"
      ],
      "text/plain": [
       "   Celsius  Fahrenheit\n",
       "0      -50       -58.0\n",
       "1      -40       -40.0\n",
       "2      -30       -22.0\n",
       "3      -20        -4.0\n",
       "4      -10        14.0"
      ]
     },
     "execution_count": 5,
     "metadata": {},
     "output_type": "execute_result"
    }
   ],
   "source": [
    "Temperature_df.head(5)"
   ]
  },
  {
   "cell_type": "code",
   "execution_count": 6,
   "metadata": {
    "colab": {
     "base_uri": "https://localhost:8080/",
     "height": 363
    },
    "colab_type": "code",
    "id": "RUt2ON_UxyYk",
    "outputId": "341366c1-8c80-42c4-d8f3-4899b28968f9"
   },
   "outputs": [
    {
     "data": {
      "text/html": [
       "<div>\n",
       "<style scoped>\n",
       "    .dataframe tbody tr th:only-of-type {\n",
       "        vertical-align: middle;\n",
       "    }\n",
       "\n",
       "    .dataframe tbody tr th {\n",
       "        vertical-align: top;\n",
       "    }\n",
       "\n",
       "    .dataframe thead th {\n",
       "        text-align: right;\n",
       "    }\n",
       "</style>\n",
       "<table border=\"1\" class=\"dataframe\">\n",
       "  <thead>\n",
       "    <tr style=\"text-align: right;\">\n",
       "      <th></th>\n",
       "      <th>Celsius</th>\n",
       "      <th>Fahrenheit</th>\n",
       "    </tr>\n",
       "  </thead>\n",
       "  <tbody>\n",
       "    <tr>\n",
       "      <th>20</th>\n",
       "      <td>6</td>\n",
       "      <td>42.8</td>\n",
       "    </tr>\n",
       "    <tr>\n",
       "      <th>21</th>\n",
       "      <td>7</td>\n",
       "      <td>44.6</td>\n",
       "    </tr>\n",
       "    <tr>\n",
       "      <th>22</th>\n",
       "      <td>8</td>\n",
       "      <td>46.4</td>\n",
       "    </tr>\n",
       "    <tr>\n",
       "      <th>23</th>\n",
       "      <td>9</td>\n",
       "      <td>48.2</td>\n",
       "    </tr>\n",
       "    <tr>\n",
       "      <th>24</th>\n",
       "      <td>10</td>\n",
       "      <td>50.0</td>\n",
       "    </tr>\n",
       "    <tr>\n",
       "      <th>25</th>\n",
       "      <td>20</td>\n",
       "      <td>68.0</td>\n",
       "    </tr>\n",
       "    <tr>\n",
       "      <th>26</th>\n",
       "      <td>30</td>\n",
       "      <td>86.0</td>\n",
       "    </tr>\n",
       "    <tr>\n",
       "      <th>27</th>\n",
       "      <td>40</td>\n",
       "      <td>104.0</td>\n",
       "    </tr>\n",
       "    <tr>\n",
       "      <th>28</th>\n",
       "      <td>50</td>\n",
       "      <td>122.0</td>\n",
       "    </tr>\n",
       "    <tr>\n",
       "      <th>29</th>\n",
       "      <td>60</td>\n",
       "      <td>140.0</td>\n",
       "    </tr>\n",
       "  </tbody>\n",
       "</table>\n",
       "</div>"
      ],
      "text/plain": [
       "    Celsius  Fahrenheit\n",
       "20        6        42.8\n",
       "21        7        44.6\n",
       "22        8        46.4\n",
       "23        9        48.2\n",
       "24       10        50.0\n",
       "25       20        68.0\n",
       "26       30        86.0\n",
       "27       40       104.0\n",
       "28       50       122.0\n",
       "29       60       140.0"
      ]
     },
     "execution_count": 6,
     "metadata": {},
     "output_type": "execute_result"
    }
   ],
   "source": [
    "Temperature_df.tail(10)"
   ]
  },
  {
   "cell_type": "code",
   "execution_count": 7,
   "metadata": {
    "colab": {
     "base_uri": "https://localhost:8080/",
     "height": 173
    },
    "colab_type": "code",
    "id": "hMq3-KWOx0e1",
    "outputId": "f1add6e3-3bb9-4523-d351-1bb83ef388c1"
   },
   "outputs": [
    {
     "name": "stdout",
     "output_type": "stream",
     "text": [
      "<class 'pandas.core.frame.DataFrame'>\n",
      "RangeIndex: 30 entries, 0 to 29\n",
      "Data columns (total 2 columns):\n",
      " #   Column      Non-Null Count  Dtype  \n",
      "---  ------      --------------  -----  \n",
      " 0   Celsius     30 non-null     int64  \n",
      " 1   Fahrenheit  30 non-null     float64\n",
      "dtypes: float64(1), int64(1)\n",
      "memory usage: 608.0 bytes\n"
     ]
    }
   ],
   "source": [
    "Temperature_df.info()"
   ]
  },
  {
   "cell_type": "code",
   "execution_count": 8,
   "metadata": {
    "colab": {
     "base_uri": "https://localhost:8080/",
     "height": 300
    },
    "colab_type": "code",
    "id": "s0E9xPLdx2Ok",
    "outputId": "f6b1cce8-08b0-4e72-c07d-9fc2c3b79ae0"
   },
   "outputs": [
    {
     "data": {
      "text/html": [
       "<div>\n",
       "<style scoped>\n",
       "    .dataframe tbody tr th:only-of-type {\n",
       "        vertical-align: middle;\n",
       "    }\n",
       "\n",
       "    .dataframe tbody tr th {\n",
       "        vertical-align: top;\n",
       "    }\n",
       "\n",
       "    .dataframe thead th {\n",
       "        text-align: right;\n",
       "    }\n",
       "</style>\n",
       "<table border=\"1\" class=\"dataframe\">\n",
       "  <thead>\n",
       "    <tr style=\"text-align: right;\">\n",
       "      <th></th>\n",
       "      <th>Celsius</th>\n",
       "      <th>Fahrenheit</th>\n",
       "    </tr>\n",
       "  </thead>\n",
       "  <tbody>\n",
       "    <tr>\n",
       "      <th>count</th>\n",
       "      <td>30.000000</td>\n",
       "      <td>30.000000</td>\n",
       "    </tr>\n",
       "    <tr>\n",
       "      <th>mean</th>\n",
       "      <td>2.000000</td>\n",
       "      <td>35.600000</td>\n",
       "    </tr>\n",
       "    <tr>\n",
       "      <th>std</th>\n",
       "      <td>22.780815</td>\n",
       "      <td>41.005466</td>\n",
       "    </tr>\n",
       "    <tr>\n",
       "      <th>min</th>\n",
       "      <td>-50.000000</td>\n",
       "      <td>-58.000000</td>\n",
       "    </tr>\n",
       "    <tr>\n",
       "      <th>25%</th>\n",
       "      <td>-6.750000</td>\n",
       "      <td>19.850000</td>\n",
       "    </tr>\n",
       "    <tr>\n",
       "      <th>50%</th>\n",
       "      <td>0.500000</td>\n",
       "      <td>32.900000</td>\n",
       "    </tr>\n",
       "    <tr>\n",
       "      <th>75%</th>\n",
       "      <td>7.750000</td>\n",
       "      <td>45.950000</td>\n",
       "    </tr>\n",
       "    <tr>\n",
       "      <th>max</th>\n",
       "      <td>60.000000</td>\n",
       "      <td>140.000000</td>\n",
       "    </tr>\n",
       "  </tbody>\n",
       "</table>\n",
       "</div>"
      ],
      "text/plain": [
       "         Celsius  Fahrenheit\n",
       "count  30.000000   30.000000\n",
       "mean    2.000000   35.600000\n",
       "std    22.780815   41.005466\n",
       "min   -50.000000  -58.000000\n",
       "25%    -6.750000   19.850000\n",
       "50%     0.500000   32.900000\n",
       "75%     7.750000   45.950000\n",
       "max    60.000000  140.000000"
      ]
     },
     "execution_count": 8,
     "metadata": {},
     "output_type": "execute_result"
    }
   ],
   "source": [
    "Temperature_df.describe()"
   ]
  },
  {
   "cell_type": "markdown",
   "metadata": {
    "colab_type": "text",
    "id": "LlszUhNNyrl_"
   },
   "source": [
    "# STEP #2: VISUALIZE DATASET"
   ]
  },
  {
   "cell_type": "code",
   "execution_count": 9,
   "metadata": {
    "colab": {
     "base_uri": "https://localhost:8080/",
     "height": 296
    },
    "colab_type": "code",
    "id": "TYcWopZVyvAs",
    "outputId": "795e93c1-7cb2-41dc-c0f0-311f55fbd016"
   },
   "outputs": [
    {
     "name": "stderr",
     "output_type": "stream",
     "text": [
      "C:\\Users\\Nikhil\\anaconda3\\lib\\site-packages\\seaborn\\_decorators.py:36: FutureWarning: Pass the following variables as keyword args: x, y. From version 0.12, the only valid positional argument will be `data`, and passing other arguments without an explicit keyword will result in an error or misinterpretation.\n",
      "  warnings.warn(\n"
     ]
    },
    {
     "data": {
      "text/plain": [
       "<AxesSubplot:xlabel='Celsius', ylabel='Fahrenheit'>"
      ]
     },
     "execution_count": 9,
     "metadata": {},
     "output_type": "execute_result"
    },
    {
     "data": {
      "image/png": "[encoded data removed]",
      "text/plain": [
       "<Figure size 432x288 with 1 Axes>"
      ]
     },
     "metadata": {
      "needs_background": "light"
     },
     "output_type": "display_data"
    }
   ],
   "source": [
    "sns.scatterplot(Temperature_df['Celsius'], Temperature_df['Fahrenheit'])"
   ]
  },
  {
   "cell_type": "markdown",
   "metadata": {
    "colab_type": "text",
    "id": "Y0GmpAjG3GiH"
   },
   "source": [
    "# STEP #3: CREATE TESTING AND TRAINING DATASET"
   ]
  },
  {
   "cell_type": "code",
   "execution_count": 10,
   "metadata": {
    "colab": {},
    "colab_type": "code",
    "id": "0-maV8hb9rYM"
   },
   "outputs": [],
   "source": [
    "X_train = Temperature_df['Celsius']\n",
    "y_train = Temperature_df['Fahrenheit']"
   ]
  },
  {
   "cell_type": "markdown",
   "metadata": {
    "colab_type": "text",
    "id": "53qDZFRn3-S1"
   },
   "source": [
    "# STEP#4: BUILD AND TRAIN THE MODEL"
   ]
  },
  {
   "cell_type": "code",
   "execution_count": 11,
   "metadata": {
    "colab": {
     "base_uri": "https://localhost:8080/",
     "height": 34
    },
    "colab_type": "code",
    "id": "DqIp8uvJ3cGi",
    "outputId": "fd4e7484-f714-4d63-a5e0-063a069353b9"
   },
   "outputs": [
    {
     "data": {
      "text/plain": [
       "(30,)"
      ]
     },
     "execution_count": 11,
     "metadata": {},
     "output_type": "execute_result"
    }
   ],
   "source": [
    "X_train.shape"
   ]
  },
  {
   "cell_type": "code",
   "execution_count": 12,
   "metadata": {
    "colab": {
     "base_uri": "https://localhost:8080/",
     "height": 34
    },
    "colab_type": "code",
    "id": "d4wfApza3cEc",
    "outputId": "2eae4630-791c-4264-8734-72a3adb81730"
   },
   "outputs": [
    {
     "data": {
      "text/plain": [
       "(30,)"
      ]
     },
     "execution_count": 12,
     "metadata": {},
     "output_type": "execute_result"
    }
   ],
   "source": [
    "y_train.shape"
   ]
  },
  {
   "cell_type": "markdown",
   "metadata": {
    "colab_type": "text",
    "id": "PiVcGWPzTigp"
   },
   "source": [
    "This will model a simple linear equation."
   ]
  },
  {
   "cell_type": "code",
   "execution_count": 13,
   "metadata": {
    "colab": {},
    "colab_type": "code",
    "id": "Yl6fmPJj3cCX"
   },
   "outputs": [],
   "source": [
    "model = tf.keras.Sequential()\n",
    "model.add(tf.keras.layers.Dense(units=1, input_shape=[1]))"
   ]
  },
  {
   "cell_type": "code",
   "execution_count": 14,
   "metadata": {
    "colab": {
     "base_uri": "https://localhost:8080/",
     "height": 191
    },
    "colab_type": "code",
    "id": "GUd71odB4v-i",
    "outputId": "ee008918-7f8d-490f-9a7e-77ca881fc97d"
   },
   "outputs": [
    {
     "name": "stdout",
     "output_type": "stream",
     "text": [
      "Model: \"sequential\"\n",
      "_________________________________________________________________\n",
      "Layer (type)                 Output Shape              Param #   \n",
      "=================================================================\n",
      "dense (Dense)                (None, 1)                 2         \n",
      "=================================================================\n",
      "Total params: 2\n",
      "Trainable params: 2\n",
      "Non-trainable params: 0\n",
      "_________________________________________________________________\n"
     ]
    }
   ],
   "source": [
    "model.summary()"
   ]
  },
  {
   "cell_type": "code",
   "execution_count": 15,
   "metadata": {
    "colab": {},
    "colab_type": "code",
    "id": "BYmvNpNw5Act"
   },
   "outputs": [],
   "source": [
    "model.compile(optimizer=tf.keras.optimizers.Adam(0.5), loss='mean_squared_error')"
   ]
  },
  {
   "cell_type": "code",
   "execution_count": 16,
   "metadata": {
    "colab": {
     "base_uri": "https://localhost:8080/",
     "height": 1000
    },
    "colab_type": "code",
    "id": "tpia0VBS5Ljw",
    "outputId": "45ae53ea-0689-4f93-b738-4f939085922b"
   },
   "outputs": [
    {
     "name": "stdout",
     "output_type": "stream",
     "text": [
      "Epoch 1/100\n",
      "1/1 [==============================] - 0s 384ms/step - loss: 2075.6797\n",
      "Epoch 2/100\n",
      "1/1 [==============================] - 0s 2ms/step - loss: 1436.6554\n",
      "Epoch 3/100\n",
      "1/1 [==============================] - 0s 2ms/step - loss: 1060.3192\n",
      "Epoch 4/100\n",
      "1/1 [==============================] - 0s 3ms/step - loss: 923.1482\n",
      "Epoch 5/100\n",
      "1/1 [==============================] - 0s 4ms/step - loss: 956.4697\n",
      "Epoch 6/100\n",
      "1/1 [==============================] - 0s 2ms/step - loss: 1049.6360\n",
      "Epoch 7/100\n",
      "1/1 [==============================] - 0s 3ms/step - loss: 1104.9062\n",
      "Epoch 8/100\n",
      "1/1 [==============================] - 0s 2ms/step - loss: 1085.5388\n",
      "Epoch 9/100\n",
      "1/1 [==============================] - 0s 2ms/step - loss: 1005.1624\n",
      "Epoch 10/100\n",
      "1/1 [==============================] - 0s 2ms/step - loss: 896.8005\n",
      "Epoch 11/100\n",
      "1/1 [==============================] - 0s 3ms/step - loss: 792.9291\n",
      "Epoch 12/100\n",
      "1/1 [==============================] - 0s 3ms/step - loss: 716.3098\n",
      "Epoch 13/100\n",
      "1/1 [==============================] - 0s 3ms/step - loss: 676.1701\n",
      "Epoch 14/100\n",
      "1/1 [==============================] - 0s 2ms/step - loss: 667.8576\n",
      "Epoch 15/100\n",
      "1/1 [==============================] - 0s 3ms/step - loss: 676.3920\n",
      "Epoch 16/100\n",
      "1/1 [==============================] - 0s 2ms/step - loss: 683.5975\n",
      "Epoch 17/100\n",
      "1/1 [==============================] - 0s 2ms/step - loss: 675.8290\n",
      "Epoch 18/100\n",
      "1/1 [==============================] - 0s 2ms/step - loss: 648.3954\n",
      "Epoch 19/100\n",
      "1/1 [==============================] - 0s 2ms/step - loss: 605.2796\n",
      "Epoch 20/100\n",
      "1/1 [==============================] - 0s 4ms/step - loss: 555.6899\n",
      "Epoch 21/100\n",
      "1/1 [==============================] - 0s 2ms/step - loss: 509.7350\n",
      "Epoch 22/100\n",
      "1/1 [==============================] - 0s 2ms/step - loss: 474.7858\n",
      "Epoch 23/100\n",
      "1/1 [==============================] - 0s 3ms/step - loss: 453.3407\n",
      "Epoch 24/100\n",
      "1/1 [==============================] - 0s 3ms/step - loss: 442.7991\n",
      "Epoch 25/100\n",
      "1/1 [==============================] - 0s 2ms/step - loss: 437.1153\n",
      "Epoch 26/100\n",
      "1/1 [==============================] - 0s 2ms/step - loss: 429.6252\n",
      "Epoch 27/100\n",
      "1/1 [==============================] - 0s 2ms/step - loss: 415.7777\n",
      "Epoch 28/100\n",
      "1/1 [==============================] - 0s 3ms/step - loss: 394.5918\n",
      "Epoch 29/100\n",
      "1/1 [==============================] - 0s 997us/step - loss: 368.4272\n",
      "Epoch 30/100\n",
      "1/1 [==============================] - 0s 2ms/step - loss: 341.4822\n",
      "Epoch 31/100\n",
      "1/1 [==============================] - 0s 2ms/step - loss: 317.8433\n",
      "Epoch 32/100\n",
      "1/1 [==============================] - 0s 2ms/step - loss: 299.8831\n",
      "Epoch 33/100\n",
      "1/1 [==============================] - 0s 2ms/step - loss: 287.5498\n",
      "Epoch 34/100\n",
      "1/1 [==============================] - 0s 2ms/step - loss: 278.7225\n",
      "Epoch 35/100\n",
      "1/1 [==============================] - 0s 2ms/step - loss: 270.3876\n",
      "Epoch 36/100\n",
      "1/1 [==============================] - 0s 2ms/step - loss: 260.0485\n",
      "Epoch 37/100\n",
      "1/1 [==============================] - 0s 3ms/step - loss: 246.7166\n",
      "Epoch 38/100\n",
      "1/1 [==============================] - 0s 3ms/step - loss: 231.0978\n",
      "Epoch 39/100\n",
      "1/1 [==============================] - 0s 2ms/step - loss: 215.0127\n",
      "Epoch 40/100\n",
      "1/1 [==============================] - 0s 4ms/step - loss: 200.4203\n",
      "Epoch 41/100\n",
      "1/1 [==============================] - 0s 2ms/step - loss: 188.5264\n",
      "Epoch 42/100\n",
      "1/1 [==============================] - 0s 3ms/step - loss: 179.3506\n",
      "Epoch 43/100\n",
      "1/1 [==============================] - 0s 997us/step - loss: 171.8861\n",
      "Epoch 44/100\n",
      "1/1 [==============================] - 0s 2ms/step - loss: 164.7084\n",
      "Epoch 45/100\n",
      "1/1 [==============================] - 0s 2ms/step - loss: 156.6947\n",
      "Epoch 46/100\n",
      "1/1 [==============================] - 0s 2ms/step - loss: 147.4977\n",
      "Epoch 47/100\n",
      "1/1 [==============================] - 0s 2ms/step - loss: 137.5833\n",
      "Epoch 48/100\n",
      "1/1 [==============================] - 0s 995us/step - loss: 127.8747\n",
      "Epoch 49/100\n",
      "1/1 [==============================] - 0s 3ms/step - loss: 119.2322\n",
      "Epoch 50/100\n",
      "1/1 [==============================] - 0s 2ms/step - loss: 112.0394\n",
      "Epoch 51/100\n",
      "1/1 [==============================] - 0s 2ms/step - loss: 106.0828\n",
      "Epoch 52/100\n",
      "1/1 [==============================] - 0s 2ms/step - loss: 100.7429\n",
      "Epoch 53/100\n",
      "1/1 [==============================] - 0s 998us/step - loss: 95.3610\n",
      "Epoch 54/100\n",
      "1/1 [==============================] - 0s 3ms/step - loss: 89.5716\n",
      "Epoch 55/100\n",
      "1/1 [==============================] - 0s 3ms/step - loss: 83.4366\n",
      "Epoch 56/100\n",
      "1/1 [==============================] - 0s 2ms/step - loss: 77.3395\n",
      "Epoch 57/100\n",
      "1/1 [==============================] - 0s 2ms/step - loss: 71.7303\n",
      "Epoch 58/100\n",
      "1/1 [==============================] - 0s 997us/step - loss: 66.8746\n",
      "Epoch 59/100\n",
      "1/1 [==============================] - 0s 4ms/step - loss: 62.7373\n",
      "Epoch 60/100\n",
      "1/1 [==============================] - 0s 4ms/step - loss: 59.0430\n",
      "Epoch 61/100\n",
      "1/1 [==============================] - 0s 999us/step - loss: 55.4559\n",
      "Epoch 62/100\n",
      "1/1 [==============================] - 0s 3ms/step - loss: 51.7651\n",
      "Epoch 63/100\n",
      "1/1 [==============================] - 0s 2ms/step - loss: 47.9739\n",
      "Epoch 64/100\n",
      "1/1 [==============================] - 0s 2ms/step - loss: 44.2577\n",
      "Epoch 65/100\n",
      "1/1 [==============================] - 0s 998us/step - loss: 40.8343\n",
      "Epoch 66/100\n",
      "1/1 [==============================] - 0s 2ms/step - loss: 37.8311\n",
      "Epoch 67/100\n",
      "1/1 [==============================] - 0s 3ms/step - loss: 35.2228\n",
      "Epoch 68/100\n",
      "1/1 [==============================] - 0s 3ms/step - loss: 32.8660\n",
      "Epoch 69/100\n",
      "1/1 [==============================] - 0s 999us/step - loss: 30.5946\n",
      "Epoch 70/100\n",
      "1/1 [==============================] - 0s 2ms/step - loss: 28.3142\n",
      "Epoch 71/100\n",
      "1/1 [==============================] - 0s 997us/step - loss: 26.0402\n",
      "Epoch 72/100\n",
      "1/1 [==============================] - 0s 998us/step - loss: 23.8661\n",
      "Epoch 73/100\n",
      "1/1 [==============================] - 0s 2ms/step - loss: 21.8918\n",
      "Epoch 74/100\n",
      "1/1 [==============================] - 0s 2ms/step - loss: 20.1596\n",
      "Epoch 75/100\n",
      "1/1 [==============================] - 0s 995us/step - loss: 18.6342\n",
      "Epoch 76/100\n",
      "1/1 [==============================] - 0s 4ms/step - loss: 17.2327\n",
      "Epoch 77/100\n",
      "1/1 [==============================] - 0s 2ms/step - loss: 15.8785\n",
      "Epoch 78/100\n",
      "1/1 [==============================] - 0s 3ms/step - loss: 14.5426\n",
      "Epoch 79/100\n",
      "1/1 [==============================] - 0s 2ms/step - loss: 13.2497\n",
      "Epoch 80/100\n",
      "1/1 [==============================] - 0s 997us/step - loss: 12.0509\n",
      "Epoch 81/100\n",
      "1/1 [==============================] - 0s 2ms/step - loss: 10.9842\n",
      "Epoch 82/100\n",
      "1/1 [==============================] - 0s 2ms/step - loss: 10.0500\n",
      "Epoch 83/100\n",
      "1/1 [==============================] - 0s 2ms/step - loss: 9.2138\n",
      "Epoch 84/100\n",
      "1/1 [==============================] - 0s 2ms/step - loss: 8.4311\n",
      "Epoch 85/100\n",
      "1/1 [==============================] - 0s 2ms/step - loss: 7.6738\n",
      "Epoch 86/100\n",
      "1/1 [==============================] - 0s 4ms/step - loss: 6.9430\n",
      "Epoch 87/100\n",
      "1/1 [==============================] - 0s 2ms/step - loss: 6.2604\n",
      "Epoch 88/100\n",
      "1/1 [==============================] - 0s 3ms/step - loss: 5.6485\n",
      "Epoch 89/100\n",
      "1/1 [==============================] - 0s 2ms/step - loss: 5.1135\n",
      "Epoch 90/100\n",
      "1/1 [==============================] - 0s 2ms/step - loss: 4.6418\n",
      "Epoch 91/100\n",
      "1/1 [==============================] - 0s 2ms/step - loss: 4.2099\n",
      "Epoch 92/100\n",
      "1/1 [==============================] - 0s 997us/step - loss: 3.7997\n",
      "Epoch 93/100\n",
      "1/1 [==============================] - 0s 957us/step - loss: 3.4072\n",
      "Epoch 94/100\n",
      "1/1 [==============================] - 0s 3ms/step - loss: 3.0413\n",
      "Epoch 95/100\n",
      "1/1 [==============================] - 0s 2ms/step - loss: 2.7135\n",
      "Epoch 96/100\n",
      "1/1 [==============================] - 0s 2ms/step - loss: 2.4284\n",
      "Epoch 97/100\n",
      "1/1 [==============================] - 0s 2ms/step - loss: 2.1800\n",
      "Epoch 98/100\n",
      "1/1 [==============================] - 0s 2ms/step - loss: 1.9561\n",
      "Epoch 99/100\n",
      "1/1 [==============================] - 0s 3ms/step - loss: 1.7464\n",
      "Epoch 100/100\n",
      "1/1 [==============================] - 0s 2ms/step - loss: 1.5478\n"
     ]
    }
   ],
   "source": [
    "epochs_hist = model.fit(X_train, y_train, epochs = 100)"
   ]
  },
  {
   "cell_type": "markdown",
   "metadata": {
    "colab_type": "text",
    "id": "-wRQqOeB5Zh5"
   },
   "source": [
    "# STEP#5: EVALUATING THE MODEL "
   ]
  },
  {
   "cell_type": "code",
   "execution_count": 17,
   "metadata": {
    "colab": {
     "base_uri": "https://localhost:8080/",
     "height": 34
    },
    "colab_type": "code",
    "id": "dfUb63035TJL",
    "outputId": "179d2f9e-0cab-4d92-fb9d-a60bf86ef275"
   },
   "outputs": [
    {
     "data": {
      "text/plain": [
       "dict_keys(['loss'])"
      ]
     },
     "execution_count": 17,
     "metadata": {},
     "output_type": "execute_result"
    }
   ],
   "source": [
    "epochs_hist.history.keys()"
   ]
  },
  {
   "cell_type": "code",
   "execution_count": 18,
   "metadata": {
    "colab": {
     "base_uri": "https://localhost:8080/",
     "height": 312
    },
    "colab_type": "code",
    "id": "eXiDop_l5erJ",
    "outputId": "6e286d88-7f64-4faf-fd2a-408229c3ec32"
   },
   "outputs": [
    {
     "data": {
      "text/plain": [
       "<matplotlib.legend.Legend at 0x1dbae665460>"
      ]
     },
     "execution_count": 18,
     "metadata": {},
     "output_type": "execute_result"
    },
    {
     "data": {
      "image/png": "[encoded data removed]",
      "text/plain": [
       "<Figure size 432x288 with 1 Axes>"
      ]
     },
     "metadata": {
      "needs_background": "light"
     },
     "output_type": "display_data"
    }
   ],
   "source": [
    "plt.plot(epochs_hist.history['loss'])\n",
    "plt.title('Model Loss Progress During Training')\n",
    "plt.xlabel('Epoch')\n",
    "plt.ylabel('Training Loss')\n",
    "plt.legend(['Training Loss'])"
   ]
  },
  {
   "cell_type": "code",
   "execution_count": 19,
   "metadata": {
    "colab": {
     "base_uri": "https://localhost:8080/",
     "height": 34
    },
    "colab_type": "code",
    "id": "yFYpuUJWBn6L",
    "outputId": "7a7db011-a292-426a-ca41-755824d55fe5"
   },
   "outputs": [
    {
     "data": {
      "text/plain": [
       "[array([[1.8006824]], dtype=float32), array([30.830843], dtype=float32)]"
      ]
     },
     "execution_count": 19,
     "metadata": {},
     "output_type": "execute_result"
    }
   ],
   "source": [
    "model.get_weights()"
   ]
  },
  {
   "cell_type": "code",
   "execution_count": 20,
   "metadata": {
    "colab": {
     "base_uri": "https://localhost:8080/",
     "height": 34
    },
    "colab_type": "code",
    "id": "isfjfT735fjD",
    "outputId": "26da7855-d9b1-498e-ea03-93fefc44048a"
   },
   "outputs": [
    {
     "name": "stdout",
     "output_type": "stream",
     "text": [
      "Temperature in degF Using Trained ANN = [[30.830843]]\n"
     ]
    }
   ],
   "source": [
    "# Use the trained model to perform predictions\n",
    "\n",
    "Temp_C = 0\n",
    "Temp_F = model.predict([Temp_C])\n",
    "print('Temperature in degF Using Trained ANN =', Temp_F)\n"
   ]
  },
  {
   "cell_type": "code",
   "execution_count": 21,
   "metadata": {
    "colab": {
     "base_uri": "https://localhost:8080/",
     "height": 34
    },
    "colab_type": "code",
    "id": "mfP_j7LaDjNR",
    "outputId": "456edd5c-5c9c-427c-b4bc-507acb3a2523"
   },
   "outputs": [
    {
     "name": "stdout",
     "output_type": "stream",
     "text": [
      "Temperature in degF Using Equation = 32.0\n"
     ]
    }
   ],
   "source": [
    "# Let's confirm this Using the equation: \n",
    "Temp_F = 9/5 * Temp_C + 32\n",
    "print('Temperature in degF Using Equation =', Temp_F)\n"
   ]
  },
  {
   "cell_type": "markdown",
   "metadata": {
    "colab_type": "text",
    "id": "27OgYEJu9EFV"
   },
   "source": [
    "# EXCELLENT JOB & CONGRATULATIONS! NOW YOU HAVE BUILT YOUR FIRST NEURAL NETWORK MODEL USING TENSORFLOW 2.0 IN GOOGLE COLAB! "
   ]
  }
 ],
 "metadata": {
  "accelerator": "GPU",
  "colab": {
   "collapsed_sections": [],
   "name": "Perceptron to Convert C to F.ipynb",
   "provenance": []
  },
  "kernelspec": {
   "display_name": "Python 3",
   "language": "python",
   "name": "python3"
  },
  "language_info": {
   "codemirror_mode": {
    "name": "ipython",
    "version": 3
   },
   "file_extension": ".py",
   "mimetype": "text/x-python",
   "name": "python",
   "nbconvert_exporter": "python",
   "pygments_lexer": "ipython3",
   "version": "3.8.5"
  }
 },
 "nbformat": 4,
 "nbformat_minor": 1
}
